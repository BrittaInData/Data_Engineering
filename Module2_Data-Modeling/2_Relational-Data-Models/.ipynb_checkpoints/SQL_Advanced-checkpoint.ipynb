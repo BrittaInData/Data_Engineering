{
 "cells": [
  {
   "cell_type": "markdown",
   "metadata": {},
   "source": [
    "# Data Definition and Constraints\n",
    "\n",
    "The CREATE statement in SQL has a few important constraints that are highlighted below.\n",
    "\n",
    "### NOT NULL\n",
    "\n",
    "The NOT NULL constraint indicates that the column cannot contain a null value. Here is the syntax for adding a NOT NULL constraint to the CREATE statement:"
   ]
  },
  {
   "cell_type": "markdown",
   "metadata": {},
   "source": [
    "```CREATE TABLE IF NOT EXISTS customer_transactions (\n",
    "    customer_id int NOT NULL, \n",
    "    store_id int, \n",
    "    spent numeric\n",
    ");```"
   ]
  },
  {
   "cell_type": "markdown",
   "metadata": {},
   "source": [
    "You can add NOT NULL constraints to more than one column. Usually this occurs when you have a COMPOSITE KEY, which will be discussed further below. Here is the syntax for it:"
   ]
  },
  {
   "cell_type": "markdown",
   "metadata": {},
   "source": [
    "```CREATE TABLE IF NOT EXISTS customer_transactions (\n",
    "    customer_id int NOT NULL, \n",
    "    store_id int NOT NULL, \n",
    "    spent numeric\n",
    ");```"
   ]
  },
  {
   "cell_type": "markdown",
   "metadata": {},
   "source": [
    "### UNIQUE\n",
    "\n",
    "The UNIQUE constraint is used to specify that the data across all the rows in one column are unique within the table. The UNIQUE constraint can also be used for multiple columns, so that the combination of the values across those columns will be unique within the table. In this latter case, the values within *one* column do not need to be unique.\n",
    "\n",
    "Let's look at an example:"
   ]
  },
  {
   "cell_type": "markdown",
   "metadata": {},
   "source": [
    "```CREATE TABLE IF NOT EXISTS customer_transactions (\n",
    "    customer_id int NOT NULL UNIQUE, \n",
    "    store_id int NOT NULL UNIQUE, \n",
    "    spent numeric \n",
    ");\n",
    "```"
   ]
  },
  {
   "cell_type": "markdown",
   "metadata": {},
   "source": [
    "Another way to write a UNIQUE constraint is to add a table constraint using commas to separate the columns:"
   ]
  },
  {
   "cell_type": "markdown",
   "metadata": {},
   "source": [
    "```CREATE TABLE IF NOT EXISTS customer_transactions (\n",
    "    customer_id int NOT NULL, \n",
    "    store_id int NOT NULL, \n",
    "    spent numeric,\n",
    "    UNIQUE (customer_id, store_id, spent)\n",
    ");\n",
    "```"
   ]
  },
  {
   "cell_type": "markdown",
   "metadata": {},
   "source": [
    "### PRIMARY KEY\n",
    "\n",
    "The PRIMARY KEY constraint is defined on a single column, and every table should contain a primary key. The values in this column uniquely identify the rows in the table. **If a group of columns are defined as a primary key, they are called a composite key**. That means the combination of values in these columns will uniquely identify the rows in the table. By default, the PRIMARY KEY constraint has the unique and not null constraint built into it.\n",
    "\n",
    "Let's look at the following example:"
   ]
  },
  {
   "cell_type": "markdown",
   "metadata": {},
   "source": [
    "```CREATE TABLE IF NOT EXISTS store (\n",
    "    store_id int PRIMARY KEY, \n",
    "    store_location_city text,\n",
    "    store_location_state text\n",
    ");\n",
    "```"
   ]
  },
  {
   "cell_type": "markdown",
   "metadata": {},
   "source": [
    "Here is an example for a group of columns serving as **composite key**:"
   ]
  },
  {
   "cell_type": "markdown",
   "metadata": {},
   "source": [
    "```CREATE TABLE IF NOT EXISTS customer_transactions (\n",
    "    customer_id int, \n",
    "    store_id int, \n",
    "    spent numeric,\n",
    "    PRIMARY KEY (customer_id, store_id)\n",
    ");\n",
    "```"
   ]
  },
  {
   "cell_type": "markdown",
   "metadata": {},
   "source": [
    "### Upsert\n",
    "\n",
    "In RDBMS language, the term upsert refers to the idea of inserting a new row in an existing table, or updating the row if it already exists in the table. The action of updating or inserting has been described as \"upsert\".\n",
    "\n",
    "The way this is handled in PostgreSQL is by using the INSERT statement in combination with the ON CONFLICT clause.\n",
    "\n",
    "### INSERT\n",
    "\n",
    "The INSERT statement adds in new rows within the table. The values associated with specific target columns can be added in any order.\n",
    "\n",
    "Let's look at a simple example. We will use a customer address table as an example, which is defined with the following CREATE statement:"
   ]
  },
  {
   "cell_type": "markdown",
   "metadata": {},
   "source": [
    "```CREATE TABLE IF NOT EXISTS customer_address (\n",
    "    customer_id int PRIMARY KEY, \n",
    "    customer_street varchar NOT NULL,\n",
    "    customer_city text NOT NULL,\n",
    "    customer_state text NOT NULL\n",
    ");\n",
    "```"
   ]
  },
  {
   "cell_type": "markdown",
   "metadata": {},
   "source": [
    "Let's try to insert data into it by adding a new row:"
   ]
  },
  {
   "cell_type": "markdown",
   "metadata": {},
   "source": [
    "```INSERT into customer_address (\n",
    "VALUES\n",
    "    (432, '758 Main Street', 'Chicago', 'IL'\n",
    ");\n",
    "```"
   ]
  },
  {
   "cell_type": "markdown",
   "metadata": {},
   "source": [
    "Now let's assume that the customer moved and we need to update the customer's address. However we do not want to add a new customer id. In other words, if there is any conflict on the customer_id, we do not want that to change.\n",
    "\n",
    "This would be a good candidate for using the ON CONFLICT DO NOTHING clause:"
   ]
  },
  {
   "cell_type": "markdown",
   "metadata": {},
   "source": [
    "```INSERT INTO customer_address (customer_id, customer_street, customer_city, customer_state)\n",
    "VALUES\n",
    " (\n",
    " 432, '923 Knox Street', 'Albany', 'NY'\n",
    " ) \n",
    "ON CONFLICT (customer_id) \n",
    "DO NOTHING;\n",
    "```"
   ]
  },
  {
   "cell_type": "markdown",
   "metadata": {},
   "source": [
    "Now, let's imagine we want to add more details in the existing address for an existing customer. This would be a good candidate for using the ON CONFLICT DO UPDATE clause:"
   ]
  },
  {
   "cell_type": "markdown",
   "metadata": {},
   "source": [
    "```INSERT INTO customer_address (customer_id, customer_street)\n",
    "VALUES\n",
    "    (\n",
    "    432, '923 Knox Street, Suite 1' \n",
    ") \n",
    "ON CONFLICT (customer_id) \n",
    "DO UPDATE\n",
    "    SET customer_street  = EXCLUDED.customer_street;\n",
    "    ```"
   ]
  },
  {
   "cell_type": "markdown",
   "metadata": {},
   "source": [
    "We recommend checking out these two links to learn other ways to insert data into the tables.\n",
    "\n",
    "- [PostgreSQL tutorial](http://www.postgresqltutorial.com/postgresql-upsert/)\n",
    "- [PostgreSQL documentation](https://www.postgresql.org/docs/9.5/sql-insert.html)"
   ]
  }
 ],
 "metadata": {
  "kernelspec": {
   "display_name": "Python 3",
   "language": "python",
   "name": "python3"
  },
  "language_info": {
   "codemirror_mode": {
    "name": "ipython",
    "version": 3
   },
   "file_extension": ".py",
   "mimetype": "text/x-python",
   "name": "python",
   "nbconvert_exporter": "python",
   "pygments_lexer": "ipython3",
   "version": "3.7.3"
  }
 },
 "nbformat": 4,
 "nbformat_minor": 2
}
